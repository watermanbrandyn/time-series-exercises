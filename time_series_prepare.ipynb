{
 "cells": [
  {
   "cell_type": "code",
   "execution_count": 14,
   "id": "a114b109",
   "metadata": {},
   "outputs": [],
   "source": [
    "def prep_store_data(df):\n",
    "    df.sale_date = pd.to_datetime(df.sale_date, format='%a, %d %b %Y %H:%M:%S %Z')\n",
    "    # make sure we sort by date/time before resampling or doing other time series manipulations\n",
    "    df = df.set_index('sale_date').sort_index()\n",
    "    df = df.rename(columns={'sale_amount': 'quantity'})\n",
    "    df['month'] = df.index.month\n",
    "    df['year'] = df.index.year\n",
    "    df['sales_total'] = df.quantity * df.item_price\n",
    "    return df"
   ]
  },
  {
   "cell_type": "code",
   "execution_count": 15,
   "id": "8a2081a4",
   "metadata": {},
   "outputs": [],
   "source": [
    "import pandas as pd\n",
    "import numpy as np\n"
   ]
  },
  {
   "cell_type": "code",
   "execution_count": 16,
   "id": "d1d3b088",
   "metadata": {},
   "outputs": [],
   "source": [
    "import acquire as a"
   ]
  },
  {
   "cell_type": "code",
   "execution_count": 17,
   "id": "eb20c221",
   "metadata": {},
   "outputs": [],
   "source": [
    "endpoint_items = '/api/v1/items'\n",
    "target_items = 'items'\n",
    "\n",
    "endpoint_stores = '/api/v1/stores'\n",
    "target_stores = 'stores'\n",
    "\n",
    "endpoint_sales = '/api/v1/sales'\n",
    "target_sales = 'sales'"
   ]
  },
  {
   "cell_type": "code",
   "execution_count": 18,
   "id": "b612ccdf",
   "metadata": {},
   "outputs": [],
   "source": [
    "domain = 'https://python.zgulde.net'"
   ]
  },
  {
   "cell_type": "code",
   "execution_count": 19,
   "id": "4b3d51ad",
   "metadata": {},
   "outputs": [
    {
     "name": "stdout",
     "output_type": "stream",
     "text": [
      "Using cached csv\n",
      "Using cached csv\n",
      "Using cached csv\n"
     ]
    }
   ],
   "source": [
    "df = a.acquire_merge_dfs()"
   ]
  },
  {
   "cell_type": "code",
   "execution_count": 20,
   "id": "a4b9a034",
   "metadata": {},
   "outputs": [],
   "source": [
    "df = prep_store_data(df)"
   ]
  },
  {
   "cell_type": "code",
   "execution_count": 22,
   "id": "c4e63c45",
   "metadata": {},
   "outputs": [
    {
     "name": "stderr",
     "output_type": "stream",
     "text": [
      "/var/folders/pt/3m3r1rq55pdgzpmnqzkdjb240000gn/T/ipykernel_5155/1025816190.py:3: FutureWarning: Indexing a DataFrame with a datetimelike index using a single string to slice the rows, like `frame[string]`, is deprecated and will be removed in a future version. Use `frame.loc[string]` instead.\n",
      "  test = df['2017']\n"
     ]
    }
   ],
   "source": [
    "# Split\n",
    "train = df[:'2016']\n",
    "test = df['2017']"
   ]
  },
  {
   "cell_type": "code",
   "execution_count": 23,
   "id": "f922c66c",
   "metadata": {},
   "outputs": [],
   "source": [
    "import matplotlib.pyplot as plt\n",
    "import seaborn as sns\n",
    "import statsmodels.api as sm"
   ]
  },
  {
   "cell_type": "code",
   "execution_count": 24,
   "id": "9c78b928",
   "metadata": {},
   "outputs": [
    {
     "data": {
      "text/html": [
       "<div>\n",
       "<style scoped>\n",
       "    .dataframe tbody tr th:only-of-type {\n",
       "        vertical-align: middle;\n",
       "    }\n",
       "\n",
       "    .dataframe tbody tr th {\n",
       "        vertical-align: top;\n",
       "    }\n",
       "\n",
       "    .dataframe thead th {\n",
       "        text-align: right;\n",
       "    }\n",
       "</style>\n",
       "<table border=\"1\" class=\"dataframe\">\n",
       "  <thead>\n",
       "    <tr style=\"text-align: right;\">\n",
       "      <th></th>\n",
       "      <th>item_id</th>\n",
       "      <th>quantity</th>\n",
       "      <th>sale_id</th>\n",
       "      <th>store_id</th>\n",
       "      <th>item_brand</th>\n",
       "      <th>item_name</th>\n",
       "      <th>item_price</th>\n",
       "      <th>item_upc12</th>\n",
       "      <th>item_upc14</th>\n",
       "      <th>store_address</th>\n",
       "      <th>store_city</th>\n",
       "      <th>store_state</th>\n",
       "      <th>store_zipcode</th>\n",
       "      <th>month</th>\n",
       "      <th>year</th>\n",
       "      <th>sales_total</th>\n",
       "    </tr>\n",
       "    <tr>\n",
       "      <th>sale_date</th>\n",
       "      <th></th>\n",
       "      <th></th>\n",
       "      <th></th>\n",
       "      <th></th>\n",
       "      <th></th>\n",
       "      <th></th>\n",
       "      <th></th>\n",
       "      <th></th>\n",
       "      <th></th>\n",
       "      <th></th>\n",
       "      <th></th>\n",
       "      <th></th>\n",
       "      <th></th>\n",
       "      <th></th>\n",
       "      <th></th>\n",
       "      <th></th>\n",
       "    </tr>\n",
       "  </thead>\n",
       "  <tbody>\n",
       "    <tr>\n",
       "      <th>2013-01-01 00:00:00+00:00</th>\n",
       "      <td>1</td>\n",
       "      <td>13.0</td>\n",
       "      <td>1</td>\n",
       "      <td>1</td>\n",
       "      <td>Riceland</td>\n",
       "      <td>Riceland American Jazmine Rice</td>\n",
       "      <td>0.84</td>\n",
       "      <td>35200264013</td>\n",
       "      <td>35200264013</td>\n",
       "      <td>12125 Alamo Ranch Pkwy</td>\n",
       "      <td>San Antonio</td>\n",
       "      <td>TX</td>\n",
       "      <td>78253</td>\n",
       "      <td>1</td>\n",
       "      <td>2013</td>\n",
       "      <td>10.92</td>\n",
       "    </tr>\n",
       "    <tr>\n",
       "      <th>2013-01-01 00:00:00+00:00</th>\n",
       "      <td>12</td>\n",
       "      <td>26.0</td>\n",
       "      <td>211817</td>\n",
       "      <td>7</td>\n",
       "      <td>Mueller</td>\n",
       "      <td>Mueller Sport Care Basic Support Level Medium ...</td>\n",
       "      <td>8.40</td>\n",
       "      <td>74676640211</td>\n",
       "      <td>74676640211</td>\n",
       "      <td>12018 Perrin Beitel Rd</td>\n",
       "      <td>San Antonio</td>\n",
       "      <td>TX</td>\n",
       "      <td>78217</td>\n",
       "      <td>1</td>\n",
       "      <td>2013</td>\n",
       "      <td>218.40</td>\n",
       "    </tr>\n",
       "    <tr>\n",
       "      <th>2013-01-01 00:00:00+00:00</th>\n",
       "      <td>46</td>\n",
       "      <td>27.0</td>\n",
       "      <td>832657</td>\n",
       "      <td>7</td>\n",
       "      <td>Mama Marys</td>\n",
       "      <td>Pizza Sauce</td>\n",
       "      <td>4.65</td>\n",
       "      <td>35457770664</td>\n",
       "      <td>35457770664</td>\n",
       "      <td>12018 Perrin Beitel Rd</td>\n",
       "      <td>San Antonio</td>\n",
       "      <td>TX</td>\n",
       "      <td>78217</td>\n",
       "      <td>1</td>\n",
       "      <td>2013</td>\n",
       "      <td>125.55</td>\n",
       "    </tr>\n",
       "    <tr>\n",
       "      <th>2013-01-01 00:00:00+00:00</th>\n",
       "      <td>12</td>\n",
       "      <td>54.0</td>\n",
       "      <td>213643</td>\n",
       "      <td>8</td>\n",
       "      <td>Mueller</td>\n",
       "      <td>Mueller Sport Care Basic Support Level Medium ...</td>\n",
       "      <td>8.40</td>\n",
       "      <td>74676640211</td>\n",
       "      <td>74676640211</td>\n",
       "      <td>15000 San Pedro Ave</td>\n",
       "      <td>San Antonio</td>\n",
       "      <td>TX</td>\n",
       "      <td>78232</td>\n",
       "      <td>1</td>\n",
       "      <td>2013</td>\n",
       "      <td>453.60</td>\n",
       "    </tr>\n",
       "    <tr>\n",
       "      <th>2013-01-01 00:00:00+00:00</th>\n",
       "      <td>12</td>\n",
       "      <td>35.0</td>\n",
       "      <td>215469</td>\n",
       "      <td>9</td>\n",
       "      <td>Mueller</td>\n",
       "      <td>Mueller Sport Care Basic Support Level Medium ...</td>\n",
       "      <td>8.40</td>\n",
       "      <td>74676640211</td>\n",
       "      <td>74676640211</td>\n",
       "      <td>735 SW Military Dr</td>\n",
       "      <td>San Antonio</td>\n",
       "      <td>TX</td>\n",
       "      <td>78221</td>\n",
       "      <td>1</td>\n",
       "      <td>2013</td>\n",
       "      <td>294.00</td>\n",
       "    </tr>\n",
       "  </tbody>\n",
       "</table>\n",
       "</div>"
      ],
      "text/plain": [
       "                           item_id  quantity  sale_id  store_id  item_brand  \\\n",
       "sale_date                                                                     \n",
       "2013-01-01 00:00:00+00:00        1      13.0        1         1    Riceland   \n",
       "2013-01-01 00:00:00+00:00       12      26.0   211817         7     Mueller   \n",
       "2013-01-01 00:00:00+00:00       46      27.0   832657         7  Mama Marys   \n",
       "2013-01-01 00:00:00+00:00       12      54.0   213643         8     Mueller   \n",
       "2013-01-01 00:00:00+00:00       12      35.0   215469         9     Mueller   \n",
       "\n",
       "                                                                   item_name  \\\n",
       "sale_date                                                                      \n",
       "2013-01-01 00:00:00+00:00                     Riceland American Jazmine Rice   \n",
       "2013-01-01 00:00:00+00:00  Mueller Sport Care Basic Support Level Medium ...   \n",
       "2013-01-01 00:00:00+00:00                                        Pizza Sauce   \n",
       "2013-01-01 00:00:00+00:00  Mueller Sport Care Basic Support Level Medium ...   \n",
       "2013-01-01 00:00:00+00:00  Mueller Sport Care Basic Support Level Medium ...   \n",
       "\n",
       "                           item_price   item_upc12   item_upc14  \\\n",
       "sale_date                                                         \n",
       "2013-01-01 00:00:00+00:00        0.84  35200264013  35200264013   \n",
       "2013-01-01 00:00:00+00:00        8.40  74676640211  74676640211   \n",
       "2013-01-01 00:00:00+00:00        4.65  35457770664  35457770664   \n",
       "2013-01-01 00:00:00+00:00        8.40  74676640211  74676640211   \n",
       "2013-01-01 00:00:00+00:00        8.40  74676640211  74676640211   \n",
       "\n",
       "                                    store_address   store_city store_state  \\\n",
       "sale_date                                                                    \n",
       "2013-01-01 00:00:00+00:00  12125 Alamo Ranch Pkwy  San Antonio          TX   \n",
       "2013-01-01 00:00:00+00:00  12018 Perrin Beitel Rd  San Antonio          TX   \n",
       "2013-01-01 00:00:00+00:00  12018 Perrin Beitel Rd  San Antonio          TX   \n",
       "2013-01-01 00:00:00+00:00     15000 San Pedro Ave  San Antonio          TX   \n",
       "2013-01-01 00:00:00+00:00      735 SW Military Dr  San Antonio          TX   \n",
       "\n",
       "                           store_zipcode  month  year  sales_total  \n",
       "sale_date                                                           \n",
       "2013-01-01 00:00:00+00:00          78253      1  2013        10.92  \n",
       "2013-01-01 00:00:00+00:00          78217      1  2013       218.40  \n",
       "2013-01-01 00:00:00+00:00          78217      1  2013       125.55  \n",
       "2013-01-01 00:00:00+00:00          78232      1  2013       453.60  \n",
       "2013-01-01 00:00:00+00:00          78221      1  2013       294.00  "
      ]
     },
     "execution_count": 24,
     "metadata": {},
     "output_type": "execute_result"
    }
   ],
   "source": [
    "df.head()"
   ]
  },
  {
   "cell_type": "code",
   "execution_count": 25,
   "id": "6c4c9673",
   "metadata": {},
   "outputs": [],
   "source": [
    "y = df.sales_total"
   ]
  },
  {
   "cell_type": "code",
   "execution_count": 27,
   "id": "47bc71a6",
   "metadata": {},
   "outputs": [
    {
     "data": {
      "text/plain": [
       "<AxesSubplot:xlabel='Lag', ylabel='Autocorrelation'>"
      ]
     },
     "execution_count": 27,
     "metadata": {},
     "output_type": "execute_result"
    },
    {
     "data": {
      "image/png": "[encoded data removed]",
      "text/plain": [
       "<Figure size 432x288 with 1 Axes>"
      ]
     },
     "metadata": {
      "needs_background": "light"
     },
     "output_type": "display_data"
    }
   ],
   "source": [
    "pd.plotting.autocorrelation_plot(y.resample('W').mean())"
   ]
  },
  {
   "cell_type": "code",
   "execution_count": 28,
   "id": "31bf0b39",
   "metadata": {},
   "outputs": [
    {
     "data": {
      "text/html": [
       "<div>\n",
       "<style scoped>\n",
       "    .dataframe tbody tr th:only-of-type {\n",
       "        vertical-align: middle;\n",
       "    }\n",
       "\n",
       "    .dataframe tbody tr th {\n",
       "        vertical-align: top;\n",
       "    }\n",
       "\n",
       "    .dataframe thead th {\n",
       "        text-align: right;\n",
       "    }\n",
       "</style>\n",
       "<table border=\"1\" class=\"dataframe\">\n",
       "  <thead>\n",
       "    <tr style=\"text-align: right;\">\n",
       "      <th></th>\n",
       "      <th>y</th>\n",
       "      <th>trend</th>\n",
       "      <th>seasonal</th>\n",
       "      <th>resid</th>\n",
       "    </tr>\n",
       "    <tr>\n",
       "      <th>sale_date</th>\n",
       "      <th></th>\n",
       "      <th></th>\n",
       "      <th></th>\n",
       "      <th></th>\n",
       "    </tr>\n",
       "  </thead>\n",
       "  <tbody>\n",
       "    <tr>\n",
       "      <th>2013-01-06 00:00:00+00:00</th>\n",
       "      <td>163.589167</td>\n",
       "      <td>NaN</td>\n",
       "      <td>-79.093974</td>\n",
       "      <td>NaN</td>\n",
       "    </tr>\n",
       "    <tr>\n",
       "      <th>2013-01-13 00:00:00+00:00</th>\n",
       "      <td>159.981203</td>\n",
       "      <td>NaN</td>\n",
       "      <td>-82.822344</td>\n",
       "      <td>NaN</td>\n",
       "    </tr>\n",
       "    <tr>\n",
       "      <th>2013-01-20 00:00:00+00:00</th>\n",
       "      <td>157.946720</td>\n",
       "      <td>NaN</td>\n",
       "      <td>-83.626435</td>\n",
       "      <td>NaN</td>\n",
       "    </tr>\n",
       "    <tr>\n",
       "      <th>2013-01-27 00:00:00+00:00</th>\n",
       "      <td>158.545383</td>\n",
       "      <td>NaN</td>\n",
       "      <td>-84.095204</td>\n",
       "      <td>NaN</td>\n",
       "    </tr>\n",
       "    <tr>\n",
       "      <th>2013-02-03 00:00:00+00:00</th>\n",
       "      <td>167.585014</td>\n",
       "      <td>NaN</td>\n",
       "      <td>-82.120101</td>\n",
       "      <td>NaN</td>\n",
       "    </tr>\n",
       "  </tbody>\n",
       "</table>\n",
       "</div>"
      ],
      "text/plain": [
       "                                    y  trend   seasonal  resid\n",
       "sale_date                                                     \n",
       "2013-01-06 00:00:00+00:00  163.589167    NaN -79.093974    NaN\n",
       "2013-01-13 00:00:00+00:00  159.981203    NaN -82.822344    NaN\n",
       "2013-01-20 00:00:00+00:00  157.946720    NaN -83.626435    NaN\n",
       "2013-01-27 00:00:00+00:00  158.545383    NaN -84.095204    NaN\n",
       "2013-02-03 00:00:00+00:00  167.585014    NaN -82.120101    NaN"
      ]
     },
     "execution_count": 28,
     "metadata": {},
     "output_type": "execute_result"
    }
   ],
   "source": [
    "y = y.resample('W').mean()\n",
    "\n",
    "result = sm.tsa.seasonal_decompose(y)\n",
    "decomposition = pd.DataFrame({\n",
    "    'y': result.observed,\n",
    "    'trend': result.trend,\n",
    "    'seasonal': result.seasonal,\n",
    "    'resid': result.resid,\n",
    "})\n",
    "decomposition.head()"
   ]
  },
  {
   "cell_type": "code",
   "execution_count": 29,
   "id": "b74a7e2b",
   "metadata": {},
   "outputs": [
    {
     "data": {
      "text/plain": [
       "<AxesSubplot:xlabel='sale_date'>"
      ]
     },
     "execution_count": 29,
     "metadata": {},
     "output_type": "execute_result"
    },
    {
     "data": {
      "image/png": "[encoded data removed]",
      "text/plain": [
       "<Figure size 432x288 with 1 Axes>"
      ]
     },
     "metadata": {
      "needs_background": "light"
     },
     "output_type": "display_data"
    }
   ],
   "source": [
    "decomposition.iloc[:, 1:].plot()\n"
   ]
  },
  {
   "cell_type": "code",
   "execution_count": 32,
   "id": "863c7056",
   "metadata": {},
   "outputs": [
    {
     "data": {
      "image/png": "[encoded data removed]",
      "text/plain": [
       "<Figure size 432x288 with 4 Axes>"
      ]
     },
     "metadata": {
      "needs_background": "light"
     },
     "output_type": "display_data"
    }
   ],
   "source": [
    "result.plot()\n",
    "None"
   ]
  },
  {
   "cell_type": "code",
   "execution_count": null,
   "id": "5484fd96",
   "metadata": {},
   "outputs": [],
   "source": []
  }
 ],
 "metadata": {
  "kernelspec": {
   "display_name": "Python 3.9.7 64-bit ('base': conda)",
   "language": "python",
   "name": "python397jvsc74a57bd038cca0c38332a56087b24af0bc80247f4fced29cb4f7f437d91dc159adec9c4e"
  },
  "language_info": {
   "codemirror_mode": {
    "name": "ipython",
    "version": 3
   },
   "file_extension": ".py",
   "mimetype": "text/x-python",
   "name": "python",
   "nbconvert_exporter": "python",
   "pygments_lexer": "ipython3",
   "version": "3.9.7"
  }
 },
 "nbformat": 4,
 "nbformat_minor": 5
}
