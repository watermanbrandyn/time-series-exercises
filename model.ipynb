{
 "cells": [
  {
   "cell_type": "code",
   "execution_count": 1,
   "id": "b0cc3f02",
   "metadata": {},
   "outputs": [],
   "source": [
    "import pandas as pd\n",
    "import numpy as np\n",
    "import matplotlib.pyplot as plt\n",
    "import seaborn as sns"
   ]
  },
  {
   "cell_type": "code",
   "execution_count": 2,
   "id": "9d3bc43a",
   "metadata": {},
   "outputs": [],
   "source": [
    "from datetime import datetime\n",
    "from sklearn.metrics import mean_squared_error\n",
    "from math import sqrt\n",
    "\n",
    "import statsmodels.api as sm\n",
    "from statsmodels.tsa.api import Holt"
   ]
  },
  {
   "cell_type": "code",
   "execution_count": 3,
   "id": "8cf12907",
   "metadata": {},
   "outputs": [
    {
     "data": {
      "text/html": [
       "<div>\n",
       "<style scoped>\n",
       "    .dataframe tbody tr th:only-of-type {\n",
       "        vertical-align: middle;\n",
       "    }\n",
       "\n",
       "    .dataframe tbody tr th {\n",
       "        vertical-align: top;\n",
       "    }\n",
       "\n",
       "    .dataframe thead th {\n",
       "        text-align: right;\n",
       "    }\n",
       "</style>\n",
       "<table border=\"1\" class=\"dataframe\">\n",
       "  <thead>\n",
       "    <tr style=\"text-align: right;\">\n",
       "      <th></th>\n",
       "      <th>Month_Invoiced</th>\n",
       "      <th>Customer_Id</th>\n",
       "      <th>Invoice_Id</th>\n",
       "      <th>Subscription_Type</th>\n",
       "      <th>Amount</th>\n",
       "    </tr>\n",
       "  </thead>\n",
       "  <tbody>\n",
       "    <tr>\n",
       "      <th>0</th>\n",
       "      <td>2014-01-31</td>\n",
       "      <td>1000000</td>\n",
       "      <td>5000000</td>\n",
       "      <td>0.0</td>\n",
       "      <td>0.0</td>\n",
       "    </tr>\n",
       "    <tr>\n",
       "      <th>1</th>\n",
       "      <td>2014-01-31</td>\n",
       "      <td>1000001</td>\n",
       "      <td>5000001</td>\n",
       "      <td>2.0</td>\n",
       "      <td>10.0</td>\n",
       "    </tr>\n",
       "    <tr>\n",
       "      <th>2</th>\n",
       "      <td>2014-01-31</td>\n",
       "      <td>1000002</td>\n",
       "      <td>5000002</td>\n",
       "      <td>0.0</td>\n",
       "      <td>0.0</td>\n",
       "    </tr>\n",
       "    <tr>\n",
       "      <th>3</th>\n",
       "      <td>2014-01-31</td>\n",
       "      <td>1000003</td>\n",
       "      <td>5000003</td>\n",
       "      <td>0.0</td>\n",
       "      <td>0.0</td>\n",
       "    </tr>\n",
       "    <tr>\n",
       "      <th>4</th>\n",
       "      <td>2014-01-31</td>\n",
       "      <td>1000004</td>\n",
       "      <td>5000004</td>\n",
       "      <td>1.0</td>\n",
       "      <td>5.0</td>\n",
       "    </tr>\n",
       "  </tbody>\n",
       "</table>\n",
       "</div>"
      ],
      "text/plain": [
       "  Month_Invoiced  Customer_Id  Invoice_Id  Subscription_Type  Amount\n",
       "0     2014-01-31      1000000     5000000                0.0     0.0\n",
       "1     2014-01-31      1000001     5000001                2.0    10.0\n",
       "2     2014-01-31      1000002     5000002                0.0     0.0\n",
       "3     2014-01-31      1000003     5000003                0.0     0.0\n",
       "4     2014-01-31      1000004     5000004                1.0     5.0"
      ]
     },
     "execution_count": 3,
     "metadata": {},
     "output_type": "execute_result"
    }
   ],
   "source": [
    "url = 'https://ds.codeup.com/saas.csv'\n",
    "df = pd.read_csv(url)\n",
    "df.head()"
   ]
  },
  {
   "cell_type": "code",
   "execution_count": 4,
   "id": "50e6f7fa",
   "metadata": {},
   "outputs": [],
   "source": [
    "# Preparation of SAAS data\n",
    "df.columns = [col.lower() for col in df]"
   ]
  },
  {
   "cell_type": "code",
   "execution_count": 5,
   "id": "2219c800",
   "metadata": {},
   "outputs": [],
   "source": [
    "df.month_invoiced = pd.to_datetime(df.month_invoiced)"
   ]
  },
  {
   "cell_type": "code",
   "execution_count": 6,
   "id": "d968d77f",
   "metadata": {},
   "outputs": [],
   "source": [
    "# Changing subscription_type and amount to correct type (int)\n",
    "df.subscription_type = df.subscription_type.astype(int)\n",
    "df.amount = df.amount.astype(int)"
   ]
  },
  {
   "cell_type": "code",
   "execution_count": 7,
   "id": "80e42a30",
   "metadata": {},
   "outputs": [],
   "source": [
    "# Setting datetime as index\n",
    "df = df.set_index('month_invoiced')"
   ]
  },
  {
   "cell_type": "code",
   "execution_count": 8,
   "id": "fa70aaf2",
   "metadata": {},
   "outputs": [
    {
     "data": {
      "text/plain": [
       "<AxesSubplot:xlabel='month_invoiced'>"
      ]
     },
     "execution_count": 8,
     "metadata": {},
     "output_type": "execute_result"
    },
    {
     "data": {
      "image/png": "[encoded data removed]",
      "text/plain": [
       "<Figure size 432x288 with 1 Axes>"
      ]
     },
     "metadata": {
      "needs_background": "light"
     },
     "output_type": "display_data"
    }
   ],
   "source": [
    "# How many observations /month?\n",
    "df.resample('M').size().plot()\n"
   ]
  },
  {
   "cell_type": "code",
   "execution_count": 10,
   "id": "0d8601fd",
   "metadata": {},
   "outputs": [
    {
     "data": {
      "text/plain": [
       "[Text(0.5, 1.0, 'Revenue over time'),\n",
       " Text(0, 0.5, 'Revenue'),\n",
       " Text(0.5, 0, '')]"
      ]
     },
     "execution_count": 10,
     "metadata": {},
     "output_type": "execute_result"
    },
    {
     "data": {
      "image/png": "[encoded data removed]",
      "text/plain": [
       "<Figure size 432x288 with 1 Axes>"
      ]
     },
     "metadata": {
      "needs_background": "light"
     },
     "output_type": "display_data"
    }
   ],
   "source": [
    "# Monthly revenue over time\n",
    "from matplotlib.dates import DateFormatter\n",
    "from matplotlib.ticker import StrMethodFormatter\n",
    "ax = df.resample('M').amount.sum().plot()\n",
    "ax.yaxis.set_major_formatter(StrMethodFormatter('${x:,}'))\n",
    "ax.set(title='Revenue over time', ylabel='Revenue', xlabel='')"
   ]
  },
  {
   "cell_type": "code",
   "execution_count": 11,
   "id": "0047f30d",
   "metadata": {},
   "outputs": [],
   "source": [
    "# Focusing on revenue by month\n",
    "df = df.resample('M')[['amount']].sum()"
   ]
  },
  {
   "cell_type": "markdown",
   "id": "fed09292",
   "metadata": {},
   "source": [
    "### For splitting:\n",
    "1. We will use the training proportion method to split.\n",
    "1. Identify the total length of the dataframe and multiply by train_prop to get the number of rows that equates to the first x% of the dataframe, which equates to the first x% of the time covered in the data. (x = train_prop * 100)\n",
    "1. Select row indices from 0 up to the index representing x-percentile for train, and from the index representing x-percentile through the end of the dataframe for test. In both of these, we will reset the index in order to return dataframes sorted by datetime.\n",
    "1. Return train and test dataframes."
   ]
  },
  {
   "cell_type": "code",
   "execution_count": 12,
   "id": "3cf666d1",
   "metadata": {},
   "outputs": [
    {
     "data": {
      "text/plain": [
       "24"
      ]
     },
     "execution_count": 12,
     "metadata": {},
     "output_type": "execute_result"
    }
   ],
   "source": [
    "int(len(df) * .5)"
   ]
  },
  {
   "cell_type": "code",
   "execution_count": 13,
   "id": "3b9b64d1",
   "metadata": {},
   "outputs": [
    {
     "data": {
      "text/plain": [
       "24"
      ]
     },
     "execution_count": 13,
     "metadata": {},
     "output_type": "execute_result"
    }
   ],
   "source": [
    "# setting train to 50% of total\n",
    "train_s = int(len(df) * .5)\n",
    "train_s"
   ]
  },
  {
   "cell_type": "code",
   "execution_count": 14,
   "id": "402f20ab",
   "metadata": {},
   "outputs": [],
   "source": [
    "# validate to 30%\n",
    "validate_s = int(len(df) * .3)"
   ]
  },
  {
   "cell_type": "code",
   "execution_count": 15,
   "id": "42fa294e",
   "metadata": {},
   "outputs": [
    {
     "data": {
      "text/plain": [
       "10"
      ]
     },
     "execution_count": 15,
     "metadata": {},
     "output_type": "execute_result"
    }
   ],
   "source": [
    "# test to remainder\n",
    "test_s = int(len(df) - train_s - validate_s)\n",
    "test_s"
   ]
  },
  {
   "cell_type": "code",
   "execution_count": 16,
   "id": "9127e987",
   "metadata": {},
   "outputs": [],
   "source": [
    "# Set end for validate\n",
    "validate_end_index = train_s + validate_s"
   ]
  },
  {
   "cell_type": "code",
   "execution_count": 17,
   "id": "14709e59",
   "metadata": {},
   "outputs": [],
   "source": [
    "# Using values to split data\n",
    "train = df[:train_s]\n",
    "validate = df[train_s:validate_end_index]\n",
    "test = df[validate_end_index:]"
   ]
  },
  {
   "cell_type": "code",
   "execution_count": 18,
   "id": "a2f7d882",
   "metadata": {},
   "outputs": [
    {
     "data": {
      "text/plain": [
       "Index(['amount'], dtype='object')"
      ]
     },
     "execution_count": 18,
     "metadata": {},
     "output_type": "execute_result"
    }
   ],
   "source": [
    "train.columns"
   ]
  },
  {
   "cell_type": "code",
   "execution_count": 19,
   "id": "9c5ae534",
   "metadata": {},
   "outputs": [
    {
     "data": {
      "image/png": "[encoded data removed]",
      "text/plain": [
       "<Figure size 1152x360 with 1 Axes>"
      ]
     },
     "metadata": {
      "needs_background": "light"
     },
     "output_type": "display_data"
    }
   ],
   "source": [
    "for col in train.columns:\n",
    "    plt.figure(figsize=(16,5))\n",
    "    plt.plot(train[col])\n",
    "    plt.plot(validate[col])\n",
    "    plt.plot(test[col])\n",
    "    plt.ylabel(col)\n",
    "    plt.title(col)\n",
    "    plt.show()"
   ]
  },
  {
   "cell_type": "code",
   "execution_count": 20,
   "id": "4d35f744",
   "metadata": {},
   "outputs": [],
   "source": [
    "# Useful functions for evaluation"
   ]
  },
  {
   "cell_type": "code",
   "execution_count": 21,
   "id": "a19fbb58",
   "metadata": {},
   "outputs": [],
   "source": [
    "# Compute the Mean Squared Error and the Root Mean Squared Error\n",
    "def evaluate(target_var):\n",
    "    '''\n",
    "    Take actual values of target_var from validate, and predicted values stoared in yhat_df, \n",
    "    compute the rmse, rounding to 0 decimal places. Returns rmse.\n",
    "    '''\n",
    "    rmse = round(sqrt(mean_squared_error(validate[target_var], yhat_df[target_var])), 0)\n",
    "    return rmse"
   ]
  },
  {
   "cell_type": "code",
   "execution_count": 31,
   "id": "e48968f1",
   "metadata": {},
   "outputs": [],
   "source": [
    "# Use evaluate function and also plot train and test values with predicted values in order to compare performance\n",
    "def plot_and_eval(target_var):\n",
    "    '''\n",
    "    Takes in target var name (str), returns a plot of values of train for that var, and the predicted values from yhat_df.\n",
    "    Labels the rmse.\n",
    "    '''\n",
    "    plt.figure(figsize=(13,5))\n",
    "    plt.plot(train[target_var], label='Train', linewidth=1)\n",
    "    plt.plot(validate[target_var], label='Validate', linewidth=1)\n",
    "    plt.plot(yhat_df[target_var])\n",
    "    plt.title(target_var)\n",
    "    rmse = evaluate(target_var)\n",
    "    print(target_var, '-- RMSE: {:.0f}'.format(rmse))\n",
    "    plt.show()"
   ]
  },
  {
   "cell_type": "code",
   "execution_count": 32,
   "id": "11caf132",
   "metadata": {},
   "outputs": [],
   "source": [
    "# Function that stores the rmse so that we can compare them at the end\n",
    "def append_eval_df(model_type, target_var):\n",
    "    '''\n",
    "    this function takes in as arguments the type of model run, and the name of the target variable. \n",
    "    It returns the eval_df with the rmse appended to it for that model and target_var. \n",
    "    '''\n",
    "    rmse = evaluate(target_var)\n",
    "    d = {'model_type': [model_type], 'target_var': [target_var],\n",
    "        'rmse': [rmse]}\n",
    "    d = pd.DataFrame(d)\n",
    "    return eval_df.append(d, ignore_index = True)"
   ]
  },
  {
   "cell_type": "code",
   "execution_count": 33,
   "id": "43f04ed3",
   "metadata": {},
   "outputs": [
    {
     "data": {
      "text/html": [
       "<div>\n",
       "<style scoped>\n",
       "    .dataframe tbody tr th:only-of-type {\n",
       "        vertical-align: middle;\n",
       "    }\n",
       "\n",
       "    .dataframe tbody tr th {\n",
       "        vertical-align: top;\n",
       "    }\n",
       "\n",
       "    .dataframe thead th {\n",
       "        text-align: right;\n",
       "    }\n",
       "</style>\n",
       "<table border=\"1\" class=\"dataframe\">\n",
       "  <thead>\n",
       "    <tr style=\"text-align: right;\">\n",
       "      <th></th>\n",
       "      <th>model_type</th>\n",
       "      <th>target_var</th>\n",
       "      <th>rmse</th>\n",
       "    </tr>\n",
       "  </thead>\n",
       "  <tbody>\n",
       "  </tbody>\n",
       "</table>\n",
       "</div>"
      ],
      "text/plain": [
       "Empty DataFrame\n",
       "Columns: [model_type, target_var, rmse]\n",
       "Index: []"
      ]
     },
     "execution_count": 33,
     "metadata": {},
     "output_type": "execute_result"
    }
   ],
   "source": [
    "# Creating an empty df\n",
    "eval_df = pd.DataFrame(columns=['model_type', 'target_var', 'rmse'])\n",
    "eval_df"
   ]
  },
  {
   "cell_type": "markdown",
   "id": "de752d74",
   "metadata": {},
   "source": [
    "### Forecasting:\n",
    "'Predicting' time series data\n",
    "1. Last Observed Value: Future will like like the now.\n",
    "2. Simple Average: Future will look, on average, like history.\n",
    "3. Moving Average: Future will look, on average, like recent history.\n",
    "4. Holt's Linear Trend. \n",
    "5. Previous Cycle."
   ]
  },
  {
   "cell_type": "markdown",
   "id": "4ac452e6",
   "metadata": {},
   "source": [
    "#### Last Observed Value"
   ]
  },
  {
   "cell_type": "code",
   "execution_count": 34,
   "id": "b5333de7",
   "metadata": {},
   "outputs": [
    {
     "data": {
      "text/plain": [
       "51505"
      ]
     },
     "execution_count": 34,
     "metadata": {},
     "output_type": "execute_result"
    }
   ],
   "source": [
    "train['amount'][-1:][0]"
   ]
  },
  {
   "cell_type": "code",
   "execution_count": 35,
   "id": "c0035038",
   "metadata": {},
   "outputs": [],
   "source": [
    "# Take last item from amount and assign to var\n",
    "amount = train['amount'][-1:][0]"
   ]
  },
  {
   "cell_type": "code",
   "execution_count": 36,
   "id": "47340ca2",
   "metadata": {},
   "outputs": [
    {
     "data": {
      "text/html": [
       "<div>\n",
       "<style scoped>\n",
       "    .dataframe tbody tr th:only-of-type {\n",
       "        vertical-align: middle;\n",
       "    }\n",
       "\n",
       "    .dataframe tbody tr th {\n",
       "        vertical-align: top;\n",
       "    }\n",
       "\n",
       "    .dataframe thead th {\n",
       "        text-align: right;\n",
       "    }\n",
       "</style>\n",
       "<table border=\"1\" class=\"dataframe\">\n",
       "  <thead>\n",
       "    <tr style=\"text-align: right;\">\n",
       "      <th></th>\n",
       "      <th>amount</th>\n",
       "    </tr>\n",
       "    <tr>\n",
       "      <th>month_invoiced</th>\n",
       "      <th></th>\n",
       "    </tr>\n",
       "  </thead>\n",
       "  <tbody>\n",
       "    <tr>\n",
       "      <th>2016-01-31</th>\n",
       "      <td>51505</td>\n",
       "    </tr>\n",
       "    <tr>\n",
       "      <th>2016-02-29</th>\n",
       "      <td>51505</td>\n",
       "    </tr>\n",
       "    <tr>\n",
       "      <th>2016-03-31</th>\n",
       "      <td>51505</td>\n",
       "    </tr>\n",
       "    <tr>\n",
       "      <th>2016-04-30</th>\n",
       "      <td>51505</td>\n",
       "    </tr>\n",
       "    <tr>\n",
       "      <th>2016-05-31</th>\n",
       "      <td>51505</td>\n",
       "    </tr>\n",
       "  </tbody>\n",
       "</table>\n",
       "</div>"
      ],
      "text/plain": [
       "                amount\n",
       "month_invoiced        \n",
       "2016-01-31       51505\n",
       "2016-02-29       51505\n",
       "2016-03-31       51505\n",
       "2016-04-30       51505\n",
       "2016-05-31       51505"
      ]
     },
     "execution_count": 36,
     "metadata": {},
     "output_type": "execute_result"
    }
   ],
   "source": [
    "yhat_df = pd.DataFrame({'amount': [amount]},\n",
    "                      index=validate.index)\n",
    "yhat_df.head()"
   ]
  },
  {
   "cell_type": "code",
   "execution_count": 37,
   "id": "1de66bea",
   "metadata": {},
   "outputs": [
    {
     "data": {
      "text/html": [
       "<div>\n",
       "<style scoped>\n",
       "    .dataframe tbody tr th:only-of-type {\n",
       "        vertical-align: middle;\n",
       "    }\n",
       "\n",
       "    .dataframe tbody tr th {\n",
       "        vertical-align: top;\n",
       "    }\n",
       "\n",
       "    .dataframe thead th {\n",
       "        text-align: right;\n",
       "    }\n",
       "</style>\n",
       "<table border=\"1\" class=\"dataframe\">\n",
       "  <thead>\n",
       "    <tr style=\"text-align: right;\">\n",
       "      <th></th>\n",
       "      <th>amount</th>\n",
       "    </tr>\n",
       "  </thead>\n",
       "  <tbody>\n",
       "    <tr>\n",
       "      <th>count</th>\n",
       "      <td>14.0</td>\n",
       "    </tr>\n",
       "    <tr>\n",
       "      <th>mean</th>\n",
       "      <td>51505.0</td>\n",
       "    </tr>\n",
       "    <tr>\n",
       "      <th>std</th>\n",
       "      <td>0.0</td>\n",
       "    </tr>\n",
       "    <tr>\n",
       "      <th>min</th>\n",
       "      <td>51505.0</td>\n",
       "    </tr>\n",
       "    <tr>\n",
       "      <th>25%</th>\n",
       "      <td>51505.0</td>\n",
       "    </tr>\n",
       "    <tr>\n",
       "      <th>50%</th>\n",
       "      <td>51505.0</td>\n",
       "    </tr>\n",
       "    <tr>\n",
       "      <th>75%</th>\n",
       "      <td>51505.0</td>\n",
       "    </tr>\n",
       "    <tr>\n",
       "      <th>max</th>\n",
       "      <td>51505.0</td>\n",
       "    </tr>\n",
       "  </tbody>\n",
       "</table>\n",
       "</div>"
      ],
      "text/plain": [
       "        amount\n",
       "count     14.0\n",
       "mean   51505.0\n",
       "std        0.0\n",
       "min    51505.0\n",
       "25%    51505.0\n",
       "50%    51505.0\n",
       "75%    51505.0\n",
       "max    51505.0"
      ]
     },
     "execution_count": 37,
     "metadata": {},
     "output_type": "execute_result"
    }
   ],
   "source": [
    "yhat_df.describe()"
   ]
  },
  {
   "cell_type": "code",
   "execution_count": 38,
   "id": "bd656746",
   "metadata": {},
   "outputs": [],
   "source": [
    "# Notice that every predicted value is the same"
   ]
  },
  {
   "cell_type": "code",
   "execution_count": 39,
   "id": "c523d3e9",
   "metadata": {},
   "outputs": [
    {
     "name": "stdout",
     "output_type": "stream",
     "text": [
      "amount -- RMSE: 1343\n"
     ]
    },
    {
     "data": {
      "image/png": "[encoded data removed]",
      "text/plain": [
       "<Figure size 936x360 with 1 Axes>"
      ]
     },
     "metadata": {
      "needs_background": "light"
     },
     "output_type": "display_data"
    }
   ],
   "source": [
    "# Plotting actual vs predicted\n",
    "plot_and_eval('amount')"
   ]
  },
  {
   "cell_type": "code",
   "execution_count": 40,
   "id": "e25cc63f",
   "metadata": {},
   "outputs": [
    {
     "name": "stdout",
     "output_type": "stream",
     "text": [
      "amount -- RMSE: 1343\n"
     ]
    },
    {
     "data": {
      "image/png": "[encoded data removed]",
      "text/plain": [
       "<Figure size 936x360 with 1 Axes>"
      ]
     },
     "metadata": {
      "needs_background": "light"
     },
     "output_type": "display_data"
    }
   ],
   "source": [
    "for col in train.columns:\n",
    "    plot_and_eval(col)"
   ]
  },
  {
   "cell_type": "code",
   "execution_count": 41,
   "id": "911f94a3",
   "metadata": {},
   "outputs": [
    {
     "name": "stderr",
     "output_type": "stream",
     "text": [
      "/var/folders/pt/3m3r1rq55pdgzpmnqzkdjb240000gn/T/ipykernel_1600/2810628987.py:11: FutureWarning: The frame.append method is deprecated and will be removed from pandas in a future version. Use pandas.concat instead.\n",
      "  return eval_df.append(d, ignore_index = True)\n"
     ]
    },
    {
     "data": {
      "text/html": [
       "<div>\n",
       "<style scoped>\n",
       "    .dataframe tbody tr th:only-of-type {\n",
       "        vertical-align: middle;\n",
       "    }\n",
       "\n",
       "    .dataframe tbody tr th {\n",
       "        vertical-align: top;\n",
       "    }\n",
       "\n",
       "    .dataframe thead th {\n",
       "        text-align: right;\n",
       "    }\n",
       "</style>\n",
       "<table border=\"1\" class=\"dataframe\">\n",
       "  <thead>\n",
       "    <tr style=\"text-align: right;\">\n",
       "      <th></th>\n",
       "      <th>model_type</th>\n",
       "      <th>target_var</th>\n",
       "      <th>rmse</th>\n",
       "    </tr>\n",
       "  </thead>\n",
       "  <tbody>\n",
       "    <tr>\n",
       "      <th>0</th>\n",
       "      <td>last_observed_value</td>\n",
       "      <td>amount</td>\n",
       "      <td>1343.0</td>\n",
       "    </tr>\n",
       "  </tbody>\n",
       "</table>\n",
       "</div>"
      ],
      "text/plain": [
       "            model_type target_var    rmse\n",
       "0  last_observed_value     amount  1343.0"
      ]
     },
     "execution_count": 41,
     "metadata": {},
     "output_type": "execute_result"
    }
   ],
   "source": [
    "# Evaluation w/ MSE and RMSE\n",
    "for col in train.columns:\n",
    "    eval_df = append_eval_df(model_type = 'last_observed_value',\n",
    "                            target_var = col)\n",
    "eval_df"
   ]
  },
  {
   "cell_type": "markdown",
   "id": "218173c9",
   "metadata": {},
   "source": [
    "#### Simple Average"
   ]
  },
  {
   "cell_type": "code",
   "execution_count": 42,
   "id": "59e23424",
   "metadata": {},
   "outputs": [],
   "source": [
    "amount = round(train['amount'].mean(), 2)"
   ]
  },
  {
   "cell_type": "code",
   "execution_count": 43,
   "id": "510f92c8",
   "metadata": {},
   "outputs": [],
   "source": [
    "# Apply predictions to observations\n",
    "def make_predictions(amount=None):\n",
    "    yhat_df = pd.DataFrame({'amount': [amount]},\n",
    "                          index=validate.index)\n",
    "    return yhat_df"
   ]
  },
  {
   "cell_type": "code",
   "execution_count": 44,
   "id": "d2f71782",
   "metadata": {},
   "outputs": [],
   "source": [
    "yhat_df = make_predictions(amount)"
   ]
  },
  {
   "cell_type": "code",
   "execution_count": 45,
   "id": "77086503",
   "metadata": {},
   "outputs": [
    {
     "name": "stdout",
     "output_type": "stream",
     "text": [
      "amount -- RMSE: 7181\n"
     ]
    },
    {
     "data": {
      "image/png": "[encoded data removed]",
      "text/plain": [
       "<Figure size 936x360 with 1 Axes>"
      ]
     },
     "metadata": {
      "needs_background": "light"
     },
     "output_type": "display_data"
    }
   ],
   "source": [
    "# Plotting actual vs predicted values\n",
    "for col in train.columns:\n",
    "    plot_and_eval(col)"
   ]
  },
  {
   "cell_type": "code",
   "execution_count": 46,
   "id": "aea48fea",
   "metadata": {},
   "outputs": [
    {
     "name": "stderr",
     "output_type": "stream",
     "text": [
      "/var/folders/pt/3m3r1rq55pdgzpmnqzkdjb240000gn/T/ipykernel_1600/2810628987.py:11: FutureWarning: The frame.append method is deprecated and will be removed from pandas in a future version. Use pandas.concat instead.\n",
      "  return eval_df.append(d, ignore_index = True)\n"
     ]
    },
    {
     "data": {
      "text/html": [
       "<div>\n",
       "<style scoped>\n",
       "    .dataframe tbody tr th:only-of-type {\n",
       "        vertical-align: middle;\n",
       "    }\n",
       "\n",
       "    .dataframe tbody tr th {\n",
       "        vertical-align: top;\n",
       "    }\n",
       "\n",
       "    .dataframe thead th {\n",
       "        text-align: right;\n",
       "    }\n",
       "</style>\n",
       "<table border=\"1\" class=\"dataframe\">\n",
       "  <thead>\n",
       "    <tr style=\"text-align: right;\">\n",
       "      <th></th>\n",
       "      <th>model_type</th>\n",
       "      <th>target_var</th>\n",
       "      <th>rmse</th>\n",
       "    </tr>\n",
       "  </thead>\n",
       "  <tbody>\n",
       "    <tr>\n",
       "      <th>0</th>\n",
       "      <td>last_observed_value</td>\n",
       "      <td>amount</td>\n",
       "      <td>1343.0</td>\n",
       "    </tr>\n",
       "    <tr>\n",
       "      <th>1</th>\n",
       "      <td>simple_avg</td>\n",
       "      <td>amount</td>\n",
       "      <td>7181.0</td>\n",
       "    </tr>\n",
       "  </tbody>\n",
       "</table>\n",
       "</div>"
      ],
      "text/plain": [
       "            model_type target_var    rmse\n",
       "0  last_observed_value     amount  1343.0\n",
       "1           simple_avg     amount  7181.0"
      ]
     },
     "execution_count": 46,
     "metadata": {},
     "output_type": "execute_result"
    }
   ],
   "source": [
    "# Evaluate using MSE and RMSE, add to eval_df\n",
    "for col in train.columns:\n",
    "    eval_df = append_eval_df(model_type='simple_avg',\n",
    "                            target_var = col)\n",
    "eval_df"
   ]
  },
  {
   "cell_type": "markdown",
   "id": "9728cafe",
   "metadata": {},
   "source": [
    "#### Moving Average"
   ]
  },
  {
   "cell_type": "code",
   "execution_count": 47,
   "id": "00311b36",
   "metadata": {},
   "outputs": [],
   "source": [
    "# Using example of 3 month average to forecast"
   ]
  },
  {
   "cell_type": "code",
   "execution_count": 48,
   "id": "9b17925e",
   "metadata": {},
   "outputs": [
    {
     "data": {
      "text/plain": [
       "51403.333333333336"
      ]
     },
     "execution_count": 48,
     "metadata": {},
     "output_type": "execute_result"
    }
   ],
   "source": [
    "period = 3\n",
    "train['amount'].rolling(period).mean()[-1]"
   ]
  },
  {
   "cell_type": "code",
   "execution_count": null,
   "id": "b281ac97",
   "metadata": {},
   "outputs": [],
   "source": [
    "period = 3\n",
    "# Take the 90 day rolling avg, then take the last element and that will be the one that is used to "
   ]
  }
 ],
 "metadata": {
  "kernelspec": {
   "display_name": "Python 3 (ipykernel)",
   "language": "python",
   "name": "python3"
  },
  "language_info": {
   "codemirror_mode": {
    "name": "ipython",
    "version": 3
   },
   "file_extension": ".py",
   "mimetype": "text/x-python",
   "name": "python",
   "nbconvert_exporter": "python",
   "pygments_lexer": "ipython3",
   "version": "3.9.12"
  }
 },
 "nbformat": 4,
 "nbformat_minor": 5
}
